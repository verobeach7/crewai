{
 "cells": [
  {
   "cell_type": "code",
   "execution_count": 10,
   "metadata": {},
   "outputs": [
    {
     "name": "stdout",
     "output_type": "stream",
     "text": [
      "CRM\n"
     ]
    }
   ],
   "source": [
    "import requests\n",
    "\n",
    "\n",
    "def get_ticker(company_name: str) -> str:\n",
    "    \"\"\"\n",
    "    회사 이름을 입력하면 Yahoo Finance에서 티커(symbol)를 찾아 반환.\n",
    "    \"\"\"\n",
    "    url = f\"https://query2.finance.yahoo.com/v1/finance/search?q={company_name}\"\n",
    "    headers = {\"User-Agent\": \"Mozilla/5.0\"}\n",
    "\n",
    "    try:\n",
    "        response = requests.get(url, headers=headers)\n",
    "        data = response.json()\n",
    "        ticker = data[\"quotes\"][0][\"symbol\"]  # 첫 번째 검색 결과의 티커 반환\n",
    "        return ticker\n",
    "    except:\n",
    "        return None  # 검색 결과 없음\n",
    "\n",
    "\n",
    "# ✅ 예제\n",
    "print(get_ticker(\"salesforce\"))  # AMD"
   ]
  }
 ],
 "metadata": {
  "kernelspec": {
   "display_name": "env",
   "language": "python",
   "name": "python3"
  },
  "language_info": {
   "codemirror_mode": {
    "name": "ipython",
    "version": 3
   },
   "file_extension": ".py",
   "mimetype": "text/x-python",
   "name": "python",
   "nbconvert_exporter": "python",
   "pygments_lexer": "ipython3",
   "version": "3.12.4"
  }
 },
 "nbformat": 4,
 "nbformat_minor": 2
}
