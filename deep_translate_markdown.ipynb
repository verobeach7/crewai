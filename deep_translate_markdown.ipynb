{
 "cells": [
  {
   "cell_type": "code",
   "execution_count": 2,
   "metadata": {},
   "outputs": [],
   "source": [
    "# 번역 + 마크다운 형식 유지\n",
    "# 일부만 번역되며 제목은 전혀 번역하지 않음\n",
    "# 성능이 별로\n",
    "import re\n",
    "from deep_translator import GoogleTranslator\n",
    "\n",
    "\n",
    "def translate_markdown(file_path, output_path):\n",
    "    # 원본 마크다운 파일 읽기\n",
    "    with open(file_path, \"r\", encoding=\"utf-8\") as f:\n",
    "        content = f.readlines()\n",
    "\n",
    "    translator = GoogleTranslator(source=\"en\", target=\"ko\")\n",
    "    translated_lines = []\n",
    "\n",
    "    for line in content:\n",
    "        # 코드 블록, 링크, 이미지 태그 등 마크다운 요소 보존\n",
    "        if re.match(r\"^\\s*(```|#|\\*|-|\\[.*\\]:|\\!\\[.*\\]\\(.*\\))\", line):\n",
    "            translated_lines.append(line)\n",
    "        else:\n",
    "            translated_lines.append(translator.translate(line.strip()) + \"\\n\")\n",
    "\n",
    "    # 번역된 마크다운 파일 저장\n",
    "    with open(output_path, \"w\", encoding=\"utf-8\") as f:\n",
    "        f.writelines(translated_lines)\n",
    "\n",
    "\n",
    "# 사용 예시\n",
    "translate_markdown(\n",
    "    \"./tesla mortors_02072025/technical_analysis.md\",\n",
    "    \"./tesla mortors_02072025/deep_translated_report.md\",\n",
    ")"
   ]
  }
 ],
 "metadata": {
  "kernelspec": {
   "display_name": "env",
   "language": "python",
   "name": "python3"
  },
  "language_info": {
   "codemirror_mode": {
    "name": "ipython",
    "version": 3
   },
   "file_extension": ".py",
   "mimetype": "text/x-python",
   "name": "python",
   "nbconvert_exporter": "python",
   "pygments_lexer": "ipython3",
   "version": "3.12.4"
  }
 },
 "nbformat": 4,
 "nbformat_minor": 2
}
