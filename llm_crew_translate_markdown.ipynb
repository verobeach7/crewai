{
 "cells": [
  {
   "cell_type": "code",
   "execution_count": 2,
   "metadata": {},
   "outputs": [],
   "source": [
    "from langchain_openai import ChatOpenAI\n",
    "from langchain.prompts import PromptTemplate\n",
    "\n",
    "# OpenAI LLM 설정\n",
    "llm = ChatOpenAI(model_name=\"gpt-4o-mini\")\n",
    "\n",
    "# 마크다운 번역 프롬프트 설정\n",
    "prompt = PromptTemplate(\n",
    "    input_variables=[\"text\"],\n",
    "    template=\"다음 마크다운 문서를 한국어로 번역하되, 원문의 마크다운 형식을 유지하시오:\\n\\n{text}\",\n",
    ")\n",
    "\n",
    "# LLM 체인 생성\n",
    "chain = prompt | llm\n",
    "\n",
    "\n",
    "def translate_markdown_with_llm(input_path, output_path):\n",
    "    with open(input_path, \"r\", encoding=\"utf-8\") as f:\n",
    "        content = f.read()\n",
    "\n",
    "    result = chain.invoke({\"text\": content})\n",
    "    translated_text = result.content\n",
    "\n",
    "    with open(output_path, \"w\", encoding=\"utf-8\") as f:\n",
    "        f.write(translated_text)\n",
    "\n",
    "\n",
    "# 실행 예제\n",
    "translate_markdown_with_llm(\n",
    "    \"./tesla mortors_02072025/technical_analysis.md\",\n",
    "    \"./tesla mortors_02072025/llm_crew_translated_report.md\",\n",
    ")"
   ]
  }
 ],
 "metadata": {
  "kernelspec": {
   "display_name": "env",
   "language": "python",
   "name": "python3"
  },
  "language_info": {
   "codemirror_mode": {
    "name": "ipython",
    "version": 3
   },
   "file_extension": ".py",
   "mimetype": "text/x-python",
   "name": "python",
   "nbconvert_exporter": "python",
   "pygments_lexer": "ipython3",
   "version": "3.12.4"
  }
 },
 "nbformat": 4,
 "nbformat_minor": 2
}
